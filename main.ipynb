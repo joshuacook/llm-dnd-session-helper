{
 "cells": [
  {
   "cell_type": "code",
   "execution_count": 3,
   "metadata": {},
   "outputs": [
    {
     "name": "stdout",
     "output_type": "stream",
     "text": [
      "96862.79s - pydevd: Sending message related to process being replaced timed-out after 5 seconds\n",
      "Requirement already satisfied: pyyaml in /Users/joshuacook/miniconda3/envs/ml_mother/lib/python3.11/site-packages (6.0.1)\n"
     ]
    }
   ],
   "source": [
    "!pip install pyyaml"
   ]
  },
  {
   "cell_type": "code",
   "execution_count": 8,
   "metadata": {},
   "outputs": [],
   "source": [
    "campaign_data = {\n",
    "    \"campaign\": \"In the desolate Fey Wastes, a stark contrast to the Fey Wild, desert tribe members embark on a quest to rescue a kidnapped brother. Joined by amnesiac guards from the ruined Seelie Court, they venture deeper into the mysteries of this barren land, aiming to both unveil its hidden truths and restore the once-vibrant Fey Wild.\",\n",
    "    \"adventure\": \"In the minotaur-populated town of Bodat, governed by the enigmatic Marquis, the adventurers must avoid capture by the Minotaur police force while they search for their kidnapped brother, Bero, unaware he's a reincarnated fallen god.\",\n",
    "    \"party\": \"chulthanhos\",\n",
    "    \"players\": [\n",
    "        {\"name\": \"Haemon\",\n",
    "         \"class\": \"Druid\",\n",
    "         \"description\": \"A bedouin from the deserts of the Fey Wastes who is intent on helping his brother that may actually be the reincarnation of Oberon\",\n",
    "         },\n",
    "        {\"name\": \"Oggvay\",\n",
    "         \"class\": \"Barbarian\",\n",
    "         \"description\": \"A bedouin from the deserts of the Fey Wastes who is intent on helping his brother that may actually be the reincarnation of Oberon\",\n",
    "         },\n",
    "        {\"name\": \"Spat\",\n",
    "         \"class\": \"Wizard\",\n",
    "         \"description\": \"an Eladrin guard from the destroyed Seelie Court who is only beginning to remember his former mandate\",\n",
    "         },\n",
    "        {\"name\": \"Dev\",\n",
    "         \"class\": \"Monk\",\n",
    "         \"description\": \"an Eladrin guard from the destroyed Seelie Court who is only beginning to remember his former mandate\",\n",
    "         },\n",
    "    ]\n",
    "}"
   ]
  },
  {
   "cell_type": "code",
   "execution_count": 10,
   "metadata": {},
   "outputs": [],
   "source": [
    "import yaml\n",
    "\n",
    "with open(\"chultanhos.yaml\", \"r\") as campaign:\n",
    "    campaign_data = yaml.safe_load(campaign)"
   ]
  },
  {
   "cell_type": "code",
   "execution_count": 13,
   "metadata": {},
   "outputs": [],
   "source": [
    "import pystache\n",
    "# !pip install pystache"
   ]
  },
  {
   "cell_type": "code",
   "execution_count": 20,
   "metadata": {},
   "outputs": [],
   "source": [
    "with open(\"prompts/recap.txt\") as recap_template:\n",
    "    recap_template = recap_template.read()\n",
    "\n",
    "recap = pystache.render(recap_template, campaign=campaign_data[\"campaign\"])"
   ]
  },
  {
   "cell_type": "code",
   "execution_count": 21,
   "metadata": {},
   "outputs": [
    {
     "data": {
      "text/plain": [
       "{'adventure': \"In the minotaur-populated town of Bodat, governed by the enigmatic Marquis, the adventurers must avoid capture by the Minotaur police force while they search for their kidnapped brother, Bero, unaware he's a reincarnated fallen god.\",\n",
       " 'campaign': 'In the desolate Fey Wastes, a stark contrast to the Fey Wild, desert tribe members embark on a quest to rescue a kidnapped brother. Joined by amnesiac guards from the ruined Seelie Court, they venture deeper into the mysteries of this barren land, aiming to both unveil its hidden truths and restore the once-vibrant Fey Wild.',\n",
       " 'party': 'chulthanhos',\n",
       " 'players': [{'class': 'Druid',\n",
       "   'description': 'A bedouin from the deserts of the Fey Wastes who is intent on helping his brother that may actually be the reincarnation of Oberon',\n",
       "   'name': 'Haemon'},\n",
       "  {'class': 'Barbarian',\n",
       "   'description': 'A bedouin from the deserts of the Fey Wastes who is intent on helping his brother that may actually be the reincarnation of Oberon',\n",
       "   'name': 'Oggvay'},\n",
       "  {'class': 'Wizard',\n",
       "   'description': 'an Eladrin guard from the destroyed Seelie Court who is only beginning to remember his former mandate',\n",
       "   'name': 'Spat'},\n",
       "  {'class': 'Monk',\n",
       "   'description': 'an Eladrin guard from the destroyed Seelie Court who is only beginning to remember his former mandate',\n",
       "   'name': 'Dev'}]}"
      ]
     },
     "execution_count": 21,
     "metadata": {},
     "output_type": "execute_result"
    }
   ],
   "source": [
    "campaign_data"
   ]
  },
  {
   "cell_type": "code",
   "execution_count": 22,
   "metadata": {},
   "outputs": [
    {
     "name": "stdout",
     "output_type": "stream",
     "text": [
      "Topic: Recap Design for D&D Session\n",
      "\n",
      "\n",
      "Here is the current campaign: In the desolate Fey Wastes, a stark contrast to the Fey Wild, desert tribe members embark on a quest to rescue a kidnapped brother. Joined by amnesiac guards from the ruined Seelie Court, they venture deeper into the mysteries of this barren land, aiming to both unveil its hidden truths and restore the once-vibrant Fey Wild.\n",
      "Here is the current adventure: \n",
      "Here is the party: \n",
      "\n",
      "Let's begin. I need a ten-minute recap of our last session. \n",
      "\n",
      "Here are the player objectives from the previous session: \n",
      "Here are the scenes from the previous session: \n",
      "Here are the locations from the previous session: \n",
      "Here are the NPCs from the previous session: \n",
      "\n",
      "Would you create a three-paragraph summary of the previous session including campaign, adventure,\n",
      "player objectives, scenes, locations, and NPCs?\n"
     ]
    }
   ],
   "source": [
    "print(recap)"
   ]
  },
  {
   "cell_type": "code",
   "execution_count": null,
   "metadata": {},
   "outputs": [],
   "source": [
    "import openai\n",
    "\n",
    "models = [\n",
    "    \"gpt-3.5-turbo\",\n",
    "    \"gpt-3.5-turbo-16k\",\n",
    "]\n",
    "prompt = \"\"\n",
    "messages = [{\"role\": \"user\", \"content\": prompt}]\n",
    "\n",
    "chat = openai.ChatCompletion.create(\n",
    "    model=models[0],\n",
    "    messages=messages\n",
    ")\n",
    "1. recap\n",
    "2. plan scenes\n",
    "3. write scenes\n"
   ]
  }
 ],
 "metadata": {
  "kernelspec": {
   "display_name": "ml_mother",
   "language": "python",
   "name": "python3"
  },
  "language_info": {
   "codemirror_mode": {
    "name": "ipython",
    "version": 3
   },
   "file_extension": ".py",
   "mimetype": "text/x-python",
   "name": "python",
   "nbconvert_exporter": "python",
   "pygments_lexer": "ipython3",
   "version": "3.11.4"
  },
  "orig_nbformat": 4
 },
 "nbformat": 4,
 "nbformat_minor": 2
}
